{
 "cells": [
  {
   "cell_type": "code",
   "execution_count": null,
   "id": "ae8ed5dc-e502-4adc-b22d-f38230fa702b",
   "metadata": {},
   "outputs": [],
   "source": [
    "! pip show torch"
   ]
  },
  {
   "cell_type": "code",
   "execution_count": null,
   "id": "b82a5d38-a09f-4648-bc1f-ebb4d6acaa96",
   "metadata": {},
   "outputs": [],
   "source": [
    "import torch\n",
    "\n",
    "print(torch.cuda.is_available(), torch.version.cuda)"
   ]
  }
 ],
 "metadata": {
  "kernelspec": {
   "display_name": "Python 3 (ipykernel)",
   "language": "python",
   "name": "python3"
  },
  "language_info": {
   "codemirror_mode": {
    "name": "ipython",
    "version": 3
   },
   "file_extension": ".py",
   "mimetype": "text/x-python",
   "name": "python",
   "nbconvert_exporter": "python",
   "pygments_lexer": "ipython3",
   "version": "3.12.9"
  }
 },
 "nbformat": 4,
 "nbformat_minor": 5
}
