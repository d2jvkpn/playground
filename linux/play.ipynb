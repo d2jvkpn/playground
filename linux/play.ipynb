{
 "cells": [
  {
   "cell_type": "code",
   "execution_count": 2,
   "metadata": {},
   "outputs": [],
   "source": [
    "from glob import glob\n",
    "from IPython.display import Video\n",
    "\n",
    "def printList(arr):\n",
    "    tmpl = \"[{:0%dd}] {}\" % len(str(len(arr)))\n",
    "    for i in range(len(arr)): print(tmpl.format(i, arr[i]))"
   ]
  },
  {
   "cell_type": "code",
   "execution_count": 15,
   "metadata": {},
   "outputs": [
    {
     "name": "stdout",
     "output_type": "stream",
     "text": [
      "[0] 7-Introduction to Spark.mp4\n",
      "[1] 8-The Resilient Distributed Dataset.mp4\n",
      "[2] 9-Ratings Histogram Walkthrough.mp4\n",
      "[3] 10-Spark Internals.mp4\n"
     ]
    }
   ],
   "source": [
    "videos = sorted(glob(\"*.mp4\"), key=lambda x: x.split(\"-\")[0].zfill(3))\n",
    "printList(videos)"
   ]
  },
  {
   "cell_type": "code",
   "execution_count": 16,
   "metadata": {},
   "outputs": [
    {
     "name": "stdout",
     "output_type": "stream",
     "text": [
      ">>> 7-Introduction to Spark.mp4\n",
      "\n"
     ]
    },
    {
     "data": {
      "text/html": [
       "<video src=\"7-Introduction to Spark.mp4\" controls  width=\"1000\" >\n",
       "      Your browser does not support the <code>video</code> element.\n",
       "    </video>"
      ],
      "text/plain": [
       "<IPython.core.display.Video object>"
      ]
     },
     "execution_count": 16,
     "metadata": {},
     "output_type": "execute_result"
    }
   ],
   "source": [
    "target = 0\n",
    "print(\">>> \" + videos[target] + \"\\n\")\n",
    "\n",
    "Video(videos[target], width=1000)"
   ]
  }
 ],
 "metadata": {
  "kernelspec": {
   "display_name": "Python 3",
   "language": "python",
   "name": "python3"
  },
  "language_info": {
   "codemirror_mode": {
    "name": "ipython",
    "version": 3
   },
   "file_extension": ".py",
   "mimetype": "text/x-python",
   "name": "python",
   "nbconvert_exporter": "python",
   "pygments_lexer": "ipython3",
   "version": "3.6.9"
  }
 },
 "nbformat": 4,
 "nbformat_minor": 4
}
