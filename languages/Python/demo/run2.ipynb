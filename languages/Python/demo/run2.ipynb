{
 "cells": [
  {
   "cell_type": "code",
   "execution_count": 1,
   "id": "behavioral-booking",
   "metadata": {},
   "outputs": [],
   "source": [
    "import os, time, shlex, subprocess\n",
    "\n",
    "import GPUtil, psutil\n",
    "\n",
    "os.getcwd()\n",
    "os.chdir(\"D:\\ShiBanQiao3-24\")"
   ]
  },
  {
   "cell_type": "code",
   "execution_count": 2,
   "id": "exterior-morning",
   "metadata": {},
   "outputs": [
    {
     "name": "stdout",
     "output_type": "stream",
     "text": [
      " Volume in drive D has no label.\n",
      " Volume Serial Number is 0EAE-F221\n",
      "\n",
      " Directory of D:\\ShiBanQiao3-24\n",
      "\n",
      "06/28/2021  05:38 PM    <DIR>          .\n",
      "06/28/2021  05:38 PM    <DIR>          ..\n",
      "03/24/2021  11:34 AM    <DIR>          Engine\n",
      "03/24/2021  11:31 AM            14,235 Manifest_NonUFSFiles_Win64.txt\n",
      "04/13/2021  12:08 PM               107 run_SignallingServer_test1.bat\n",
      "04/13/2021  12:09 PM               107 run_SignallingServer_test2.bat\n",
      "04/21/2021  03:33 PM               107 run_SignallingServer_test3.bat\n",
      "04/21/2021  03:33 PM               107 run_SignallingServer_test4.bat\n",
      "05/07/2021  05:07 PM               106 run_SignallingServer1.bat\n",
      "05/07/2021  05:07 PM               106 run_SignallingServer2.bat\n",
      "03/24/2021  11:34 AM    <DIR>          ShiBanQiao\n",
      "03/24/2021  11:30 AM           189,440 ShiBanQiao.exe\n",
      "               8 File(s)        204,315 bytes\n",
      "               4 Dir(s)  606,939,262,976 bytes free\n"
     ]
    }
   ],
   "source": [
    "ls"
   ]
  },
  {
   "cell_type": "code",
   "execution_count": 19,
   "id": "whole-insurance",
   "metadata": {},
   "outputs": [
    {
     "name": "stdout",
     "output_type": "stream",
     "text": [
      "['start', 'ShiBanQiao.exe', '-AudioMixer', '-PixelStreamingIP=47.117.115.165', '-PixelStreamingPort=8204', '-RenderOffScreen']\n"
     ]
    }
   ],
   "source": [
    "# \"run_SignallingServer_test4.bat\"\n",
    "\n",
    "cmd = \"start ShiBanQiao.exe -AudioMixer -PixelStreamingIP=47.117.115.165 -PixelStreamingPort=8204 -RenderOffScreen\"\n",
    "cmd = shlex.split(cmd)\n",
    "# process = subprocess.Popen(cmd, shell=True, stdout=subprocess.PIPE, stderr=subprocess.PIPE)\n",
    "# print(shlex.split(cmd))\n",
    "process = subprocess.Popen(cmd, shell=True, stdout=subprocess.PIPE, stderr=subprocess.PIPE)\n",
    "n=1\n",
    "# output, error = process.communicate()\n",
    "# print(output, error)\n",
    "print(cmd)"
   ]
  },
  {
   "cell_type": "code",
   "execution_count": 31,
   "id": "unauthorized-mixture",
   "metadata": {},
   "outputs": [
    {
     "data": {
      "text/plain": [
       "13736"
      ]
     },
     "execution_count": 31,
     "metadata": {},
     "output_type": "execute_result"
    }
   ],
   "source": [
    "process.pid\n",
    "# psutil.Process(process.pid)"
   ]
  },
  {
   "cell_type": "code",
   "execution_count": 23,
   "id": "forty-phrase",
   "metadata": {},
   "outputs": [
    {
     "name": "stdout",
     "output_type": "stream",
     "text": [
      ">>> 1 processes found\n",
      ">>> target pid: 11900\n",
      "psutil.Process(pid=11900, name='ShiBanQiao.exe', status='running', started='17:06:22')\n",
      "23.4625\n",
      "21.137951244541437\n"
     ]
    }
   ],
   "source": [
    "targets = []\n",
    "for proc in psutil.process_iter():\n",
    "    if proc.name() == cmd[1] and len(proc.children()) == 0:\n",
    "        targets.append(proc)\n",
    "\n",
    "print(\">>> {} processes found\".format(len(targets)))\n",
    "\n",
    "target = None # psutil.Process(pid)\n",
    "if len(targets) > 0:\n",
    "    target = targets[0]\n",
    "    print(\">>> target pid:\", target.pid)\n",
    "    print(target)\n",
    "    print(target.cpu_percent(interval=0.5)/psutil.cpu_count())\n",
    "    print(target.memory_percent())"
   ]
  },
  {
   "cell_type": "code",
   "execution_count": 27,
   "id": "designed-signature",
   "metadata": {},
   "outputs": [
    {
     "name": "stdout",
     "output_type": "stream",
     "text": [
      ">>> ppid: psutil.Process(pid=5824, name='ShiBanQiao.exe', status='running', started='17:06:22')\n"
     ]
    },
    {
     "data": {
      "text/plain": [
       "10292"
      ]
     },
     "execution_count": 27,
     "metadata": {},
     "output_type": "execute_result"
    }
   ],
   "source": [
    "# target.kill()\n",
    "print(\">>> ppid:\", target.parent())\n",
    "\n",
    "os.getpid()"
   ]
  },
  {
   "cell_type": "code",
   "execution_count": 6,
   "id": "golden-player",
   "metadata": {},
   "outputs": [
    {
     "name": "stdout",
     "output_type": "stream",
     "text": [
      "<GPUtil.GPUtil.GPU object at 0x00000149EDA4D670>\n"
     ]
    }
   ],
   "source": [
    "gpu = GPUtil.getGPUs()[0]\n",
    "print(gpu)"
   ]
  },
  {
   "cell_type": "code",
   "execution_count": null,
   "id": "comic-murder",
   "metadata": {},
   "outputs": [],
   "source": [
    "print(\">>> running\", n)\n",
    "\n",
    "while True:\n",
    "    poll = process.poll()\n",
    "    if not poll is None:\n",
    "        output, error = process.communicate()\n",
    "        # print(poll, output, error); break\n",
    "        n+=1\n",
    "        if n > 5:\n",
    "            print(\"!!! stop running\")\n",
    "            break\n",
    "        print(\">>> running\", n)\n",
    "        process = subprocess.Popen(cmd, shell=True, stdout=subprocess.PIPE, stderr=subprocess.PIPE)\n",
    "\n",
    "    time.sleep(1)"
   ]
  }
 ],
 "metadata": {
  "kernelspec": {
   "display_name": "Python 3",
   "language": "python",
   "name": "python3"
  },
  "language_info": {
   "codemirror_mode": {
    "name": "ipython",
    "version": 3
   },
   "file_extension": ".py",
   "mimetype": "text/x-python",
   "name": "python",
   "nbconvert_exporter": "python",
   "pygments_lexer": "ipython3",
   "version": "3.8.10"
  }
 },
 "nbformat": 4,
 "nbformat_minor": 5
}
