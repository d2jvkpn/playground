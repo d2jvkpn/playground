{
 "cells": [
  {
   "cell_type": "code",
   "execution_count": 364,
   "id": "535069d8-e7a1-49cf-a361-9f0ebd5b60a3",
   "metadata": {},
   "outputs": [],
   "source": [
    "import os, time, shlex, subprocess\n",
    "\n",
    "import psutil, GPUtil\n",
    "\n",
    "\n",
    "def gpuInfo() -> dict:\n",
    "    gpus = GPUtil.getGPUs()\n",
    "    if len(gpus) == 0: return {}\n",
    "    gpu = gpus[0]\n",
    "\n",
    "    # gpu.id, gpu.name, gpu.uuid\n",
    "    return {\n",
    "        \"load_percent\": round(gpu.load*100, 2),\n",
    "        \"memory_percent\": round(gpu.memoryUsed/gpu.memoryTotal*100, 2),\n",
    "        \"temperature\": gpu.temperature,\n",
    "    }\n",
    "\n",
    "\n",
    "class ProcX:\n",
    "    cmd = []\n",
    "    wd = \"\"\n",
    "    n = 0\n",
    "    process = None\n",
    "\n",
    "    __wait_seconds = 5;\n",
    "    __cpu_interval = 1;\n",
    "\n",
    "    def __init__(self, cmd: str):\n",
    "        x = shlex.split(cmd)\n",
    "        if len(x) < 2: return False\n",
    "        self.cmd, self.wd = x, os.getcwd()\n",
    "\n",
    "    def run0(self, excludes=[]) -> bool:\n",
    "        try:\n",
    "            process = subprocess.Popen(\n",
    "              self.cmd, shell=True, stdout=subprocess.PIPE, stderr=subprocess.PIPE,\n",
    "            )\n",
    "            # process.kill()\n",
    "        except:\n",
    "            print(\"command start failed: 1\")\n",
    "            return False\n",
    "\n",
    "        time.sleep(self.__wait_seconds)\n",
    "        procs = []\n",
    "        for proc in psutil.process_iter(): # can't get commandline process id directly\n",
    "            if len(proc.children()) > 0 or proc.pid in excludes: continue\n",
    "            if proc.name() == self.cmd[1]: procs.append(proc)\n",
    "\n",
    "        if len(procs) == 0:\n",
    "            print(\"command start failed: 2\")\n",
    "            return False\n",
    "\n",
    "        procs.sort(key=lambda p: p.create_time(), reverse=True)\n",
    "        # print(procs)\n",
    "        self.process, self.n = procs[0], 1\n",
    "        return True\n",
    "\n",
    "    def run(self) -> bool:\n",
    "        try:\n",
    "            process = subprocess.Popen(\n",
    "              self.cmd, shell=True, stdout=subprocess.PIPE, stderr=subprocess.PIPE,\n",
    "            )\n",
    "            # process.kill()\n",
    "        except:\n",
    "            print(\"command start failed 1: \")\n",
    "            return False\n",
    "\n",
    "        time.sleep(self.__wait_seconds)\n",
    "        try:\n",
    "            self.process = psutil.Process(process.children()[0].children()[0])\n",
    "        except:\n",
    "            print(\"command start failed: 2\")\n",
    "            return False\n",
    "\n",
    "        print(\"program pid:\", self.process.pid)\n",
    "        self.n = 1\n",
    "        return True\n",
    "\n",
    "    def isRunning(self) -> bool:\n",
    "        if self.process is None: return False\n",
    "\n",
    "        return self.process.is_running()\n",
    "\n",
    "    def kill(self):\n",
    "        if self.process is None: return\n",
    "\n",
    "        self.process.kill()\n",
    "\n",
    "    def status(self) -> dict:\n",
    "        if self.process is None: return {}\n",
    "\n",
    "        cpu_percent = round(self.process.cpu_percent(self.__cpu_interval)/psutil.cpu_count(), 2)\n",
    "        status = self.process.status()\n",
    "        status = \"suspened\" if status == \"stopped\" else status\n",
    "\n",
    "        return {\n",
    "            \"staus\": status,\n",
    "            \"memory_percent\": round(self.process.memory_percent(), 2),\n",
    "            \"cpu_percent\": cpu_percent,\n",
    "            \"system_gpu_info\": gpuInfo(),\n",
    "        }"
   ]
  },
  {
   "cell_type": "code",
   "execution_count": 365,
   "id": "79ca3dc0-2ab4-46e9-9d21-21a04e5b7725",
   "metadata": {},
   "outputs": [
    {
     "name": "stdout",
     "output_type": "stream",
     "text": [
      "command start failed: 2\n",
      "False\n"
     ]
    }
   ],
   "source": [
    "os.getcwd()\n",
    "os.chdir(\"D:\\ShiBanQiao3-24\")\n",
    "\n",
    "cmd = \"ShiBanQiao.exe -AudioMixer -PixelStreamingIP=47.117.115.165 -PixelStreamingPort=8204 -RenderOffScreen\"\n",
    "px = ProcX(cmd)\n",
    "\n",
    "ok = px.run()\n",
    "print(ok)"
   ]
  },
  {
   "cell_type": "code",
   "execution_count": 349,
   "id": "5bca69d1-e0b0-4d9c-a34e-7eefe9f13514",
   "metadata": {},
   "outputs": [
    {
     "data": {
      "text/plain": [
       "True"
      ]
     },
     "execution_count": 349,
     "metadata": {},
     "output_type": "execute_result"
    }
   ],
   "source": [
    "# px.process\n",
    "px.isRunning()"
   ]
  },
  {
   "cell_type": "code",
   "execution_count": 350,
   "id": "7aa2be07-d098-44dd-9ef9-3427968ea0ad",
   "metadata": {},
   "outputs": [
    {
     "data": {
      "text/plain": [
       "{'staus': 'running',\n",
       " 'memory_percent': 8.7,\n",
       " 'cpu_percent': 23.45,\n",
       " 'system_gpu_info': {'load_percent': 93.0,\n",
       "  'memory_percent': 84.25,\n",
       "  'temperature': 72.0}}"
      ]
     },
     "execution_count": 350,
     "metadata": {},
     "output_type": "execute_result"
    }
   ],
   "source": [
    "px.status()"
   ]
  },
  {
   "cell_type": "code",
   "execution_count": 351,
   "id": "ee7361ba-f096-482a-8a33-263f94d086f4",
   "metadata": {},
   "outputs": [
    {
     "data": {
      "text/plain": [
       "{'staus': 'running',\n",
       " 'memory_percent': 8.67,\n",
       " 'cpu_percent': 25.2,\n",
       " 'system_gpu_info': {'load_percent': 92.0,\n",
       "  'memory_percent': 84.25,\n",
       "  'temperature': 72.0}}"
      ]
     },
     "execution_count": 351,
     "metadata": {},
     "output_type": "execute_result"
    }
   ],
   "source": [
    "px.status()"
   ]
  },
  {
   "cell_type": "code",
   "execution_count": 357,
   "id": "be2bea90-d1b4-475f-916f-d8ffb4ba2c56",
   "metadata": {},
   "outputs": [],
   "source": [
    "px.process.suspend()"
   ]
  },
  {
   "cell_type": "code",
   "execution_count": 358,
   "id": "c33cf1f6-5acc-4171-9111-4ea33b4d41bd",
   "metadata": {},
   "outputs": [
    {
     "data": {
      "text/plain": [
       "{'staus': 'suspened',\n",
       " 'memory_percent': 21.06,\n",
       " 'cpu_percent': 0.0,\n",
       " 'system_gpu_info': {'load_percent': 0.0,\n",
       "  'memory_percent': 90.45,\n",
       "  'temperature': 61.0}}"
      ]
     },
     "execution_count": 358,
     "metadata": {},
     "output_type": "execute_result"
    }
   ],
   "source": [
    "px.status()"
   ]
  },
  {
   "cell_type": "code",
   "execution_count": 359,
   "id": "c38f70ae-8781-4bac-ad4f-490b5e5009af",
   "metadata": {},
   "outputs": [],
   "source": [
    "px.process.resume()"
   ]
  },
  {
   "cell_type": "code",
   "execution_count": 330,
   "id": "29f643cc-4922-4b69-b59c-1ed350030364",
   "metadata": {},
   "outputs": [
    {
     "data": {
      "text/plain": [
       "{'staus': 'running',\n",
       " 'memory_percent': 21.39,\n",
       " 'cpu_percent': 22.46,\n",
       " 'system_gpu_info': {'name': 'GeForce GTX 970',\n",
       "  'load_percent': 92.0,\n",
       "  'memory_percent': 82.1,\n",
       "  'temperature': 65.0,\n",
       "  'uuid': 'GPU-c2a46ebb-7689-71f9-0239-9c1e394d1244'}}"
      ]
     },
     "execution_count": 330,
     "metadata": {},
     "output_type": "execute_result"
    }
   ],
   "source": [
    "px.status()"
   ]
  },
  {
   "cell_type": "code",
   "execution_count": 346,
   "id": "0f8dff5d-00a2-4ff2-a3c4-3c2823c24087",
   "metadata": {},
   "outputs": [],
   "source": [
    "# px.kill()\n",
    "px.process.terminate()"
   ]
  },
  {
   "cell_type": "code",
   "execution_count": 338,
   "id": "b5d9f408-0a5f-46a7-a99e-4d1399e3e3eb",
   "metadata": {},
   "outputs": [
    {
     "data": {
      "text/plain": [
       "False"
      ]
     },
     "execution_count": 338,
     "metadata": {},
     "output_type": "execute_result"
    }
   ],
   "source": [
    "px.isRunning()"
   ]
  },
  {
   "cell_type": "code",
   "execution_count": 333,
   "id": "187ea7f8-3647-46c8-aafb-27a741d732cf",
   "metadata": {},
   "outputs": [
    {
     "data": {
      "text/plain": [
       "True"
      ]
     },
     "execution_count": 333,
     "metadata": {},
     "output_type": "execute_result"
    }
   ],
   "source": [
    "px.run()"
   ]
  },
  {
   "cell_type": "code",
   "execution_count": 335,
   "id": "98b9fd31-eec1-4e01-95eb-078ac7874a94",
   "metadata": {},
   "outputs": [
    {
     "data": {
      "text/plain": [
       "{'staus': 'running',\n",
       " 'memory_percent': 22.46,\n",
       " 'cpu_percent': 21.16,\n",
       " 'system_gpu_info': {'name': 'GeForce GTX 970',\n",
       "  'load_percent': 92.0,\n",
       "  'memory_percent': 78.34,\n",
       "  'temperature': 75.0,\n",
       "  'uuid': 'GPU-c2a46ebb-7689-71f9-0239-9c1e394d1244'}}"
      ]
     },
     "execution_count": 335,
     "metadata": {},
     "output_type": "execute_result"
    }
   ],
   "source": [
    "px.status()"
   ]
  },
  {
   "cell_type": "code",
   "execution_count": null,
   "id": "9df589a1-4072-4790-ac4b-4f1659f904fa",
   "metadata": {},
   "outputs": [],
   "source": [
    "psutil.cpu_t"
   ]
  }
 ],
 "metadata": {
  "kernelspec": {
   "display_name": "Python 3",
   "language": "python",
   "name": "python3"
  },
  "language_info": {
   "codemirror_mode": {
    "name": "ipython",
    "version": 3
   },
   "file_extension": ".py",
   "mimetype": "text/x-python",
   "name": "python",
   "nbconvert_exporter": "python",
   "pygments_lexer": "ipython3",
   "version": "3.9.5"
  }
 },
 "nbformat": 4,
 "nbformat_minor": 5
}
