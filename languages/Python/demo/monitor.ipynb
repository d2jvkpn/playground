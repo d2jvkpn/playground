{
 "cells": [
  {
   "cell_type": "code",
   "execution_count": 1,
   "id": "72317118-5cfb-465c-a312-21c0104606b9",
   "metadata": {},
   "outputs": [],
   "source": [
    "import psutil\n",
    "import GPUtil"
   ]
  },
  {
   "cell_type": "code",
   "execution_count": 32,
   "id": "30c825f5-2721-49d9-9685-601077f42f24",
   "metadata": {},
   "outputs": [
    {
     "data": {
      "text/plain": [
       "0.7"
      ]
     },
     "execution_count": 32,
     "metadata": {},
     "output_type": "execute_result"
    }
   ],
   "source": [
    "psutil.cpu_percent()"
   ]
  },
  {
   "cell_type": "code",
   "execution_count": 33,
   "id": "4b409452-2442-4545-8f32-3c60385550ff",
   "metadata": {},
   "outputs": [
    {
     "data": {
      "text/plain": [
       "svmem(total=17115246592, available=9217433600, percent=46.1, used=7897812992, free=9217433600)"
      ]
     },
     "execution_count": 33,
     "metadata": {},
     "output_type": "execute_result"
    }
   ],
   "source": [
    "psutil.virtual_memory()"
   ]
  },
  {
   "cell_type": "code",
   "execution_count": 14,
   "id": "11cfa4ac-f25e-46c6-acb6-13113ba3c7b3",
   "metadata": {},
   "outputs": [
    {
     "data": {
      "text/plain": [
       "{'total': 17115246592,\n",
       " 'available': 10509115392,\n",
       " 'percent': 38.6,\n",
       " 'used': 6606131200,\n",
       " 'free': 10509115392}"
      ]
     },
     "execution_count": 14,
     "metadata": {},
     "output_type": "execute_result"
    }
   ],
   "source": [
    "dict(psutil.virtual_memory()._asdict())"
   ]
  },
  {
   "cell_type": "code",
   "execution_count": 35,
   "id": "8914c5e9-5710-4446-a66f-bcd53c625487",
   "metadata": {},
   "outputs": [
    {
     "data": {
      "text/plain": [
       "56.9"
      ]
     },
     "execution_count": 35,
     "metadata": {},
     "output_type": "execute_result"
    }
   ],
   "source": [
    "psutil.virtual_memory().percent"
   ]
  },
  {
   "cell_type": "code",
   "execution_count": 6,
   "id": "1353d096-d960-4d0b-b184-b790d0e2e7ad",
   "metadata": {},
   "outputs": [
    {
     "data": {
      "text/plain": [
       "60.85364531568182"
      ]
     },
     "execution_count": 6,
     "metadata": {},
     "output_type": "execute_result"
    }
   ],
   "source": [
    "psutil.virtual_memory().available * 100 / psutil.virtual_memory().total"
   ]
  },
  {
   "cell_type": "code",
   "execution_count": 13,
   "id": "4bc5d3c6-4905-4673-94dd-1cb044868b13",
   "metadata": {},
   "outputs": [
    {
     "name": "stdout",
     "output_type": "stream",
     "text": [
      "| ID | GPU | MEM |\n",
      "------------------\n",
      "|  0 |  0% |  4% |\n"
     ]
    }
   ],
   "source": [
    "GPUtil.showUtilization()"
   ]
  },
  {
   "cell_type": "code",
   "execution_count": null,
   "id": "b3f10a2e-fef7-40ea-b28e-39b7935d9adb",
   "metadata": {},
   "outputs": [],
   "source": []
  }
 ],
 "metadata": {
  "kernelspec": {
   "display_name": "Python 3",
   "language": "python",
   "name": "python3"
  },
  "language_info": {
   "codemirror_mode": {
    "name": "ipython",
    "version": 3
   },
   "file_extension": ".py",
   "mimetype": "text/x-python",
   "name": "python",
   "nbconvert_exporter": "python",
   "pygments_lexer": "ipython3",
   "version": "3.9.5"
  }
 },
 "nbformat": 4,
 "nbformat_minor": 5
}
