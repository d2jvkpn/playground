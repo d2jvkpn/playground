{
 "cells": [
  {
   "cell_type": "code",
   "execution_count": 1,
   "id": "confident-emerald",
   "metadata": {},
   "outputs": [],
   "source": [
    "import os, sys, time, shlex, subprocess\n",
    "\n",
    "import psutil, GPUtil\n",
    "\n",
    "\n",
    "def gpu_info() -> dict:\n",
    "    gpus = GPUtil.getGPUs()\n",
    "    if len(gpus) == 0: return {}\n",
    "    gpu = gpus[0]\n",
    "\n",
    "    # gpu.id, gpu.name, gpu.uuid\n",
    "    return {\n",
    "      \"load_percent\": round(gpu.load*100, 2),\n",
    "      \"memory_percent\": round(gpu.memoryUsed/gpu.memoryTotal*100, 2),\n",
    "      \"temperature\": gpu.temperature,\n",
    "    }\n",
    "\n",
    "\n",
    "class ProcX:\n",
    "    cmd = []\n",
    "    wd = \"\"\n",
    "    n = 0\n",
    "    process = None\n",
    "\n",
    "    __cpu_interval = 1;\n",
    "\n",
    "    def __init__(self, cmd: str):\n",
    "        x = shlex.split(cmd)\n",
    "        if len(x) < 2: return False\n",
    "        self.cmd, self.wd = x, os.getcwd()\n",
    "\n",
    "    def run(self) -> bool:\n",
    "        if not self.process is None and self.process.is_running():\n",
    "            print(\"!!! process is running\")\n",
    "            return False\n",
    "\n",
    "        try:\n",
    "            process = subprocess.Popen(self.cmd, stdout=subprocess.PIPE, stderr=subprocess.PIPE)\n",
    "            # process.kill()\n",
    "        except:\n",
    "            print(\"!!! command start failed 1:\", sys.exc_info()[0])\n",
    "            return False\n",
    "\n",
    "        print(\">>> ppid:\", process.pid)\n",
    "        process = psutil.Process(process.pid)\n",
    "        for i in range(10):\n",
    "            children = process.children()\n",
    "            if len(children) == 0:\n",
    "                print(\"... wait 500 millisecond\")\n",
    "                time.sleep(0.5)\n",
    "                continue\n",
    "\n",
    "            self.process = children[0]\n",
    "            print(\">>> pid:\", self.process.pid)\n",
    "            break\n",
    "\n",
    "        if self.process is None:\n",
    "            print(\"!!! command start failed 4:\", sys.exc_info()[0])\n",
    "            return False\n",
    "\n",
    "        self.n = 1\n",
    "        return True\n",
    "\n",
    "    def is_running(self) -> bool:\n",
    "        if self.process is None: return False\n",
    "\n",
    "        return self.process.is_running()\n",
    "\n",
    "    def execute(self, action: str) -> bool:\n",
    "        if self.process is None: return False\n",
    "\n",
    "        if not self.process.is_running(): return False\n",
    "        status = self.process.status()\n",
    "\n",
    "        if status != \"running\" and action in [\"kill\", \"restart\", \"stop\"]:\n",
    "            return False\n",
    "        elif status != \"stopped\" and action == \"resume\":\n",
    "            return False\n",
    "\n",
    "        if action == \"kill\":\n",
    "            self.process.kill()\n",
    "        elif action == \"restart\":\n",
    "            self.process.kill()\n",
    "            self.run()\n",
    "        elif action == \"stop\":\n",
    "            self.process.suspend()\n",
    "        elif action == \"resume\":\n",
    "            self.process.resume()\n",
    "        else:\n",
    "            print(\"!!! unkonwn action:\", action)\n",
    "            return False\n",
    "\n",
    "        return True\n",
    "\n",
    "    def status(self) -> dict:\n",
    "        if self.process is None: return {}\n",
    "\n",
    "        if not self.process.is_running(): return {\"status\": \"terminated\"}\n",
    "\n",
    "        try:\n",
    "            cpu_percent = round(self.process.cpu_percent(self.__cpu_interval)/psutil.cpu_count(), 2)\n",
    "        except psutil.NoSuchProcess:\n",
    "            return {\"status\": \"terminated\"}\n",
    "\n",
    "        return {\n",
    "            \"staus\": self.process.status(),\n",
    "            \"memory_percent\": round(self.process.memory_percent(), 2),\n",
    "            \"cpu_percent\": cpu_percent,\n",
    "            \"system_gpu_info\": gpu_info(),\n",
    "        }"
   ]
  },
  {
   "cell_type": "code",
   "execution_count": 2,
   "id": "marked-comparative",
   "metadata": {},
   "outputs": [
    {
     "name": "stdout",
     "output_type": "stream",
     "text": [
      ">>> ppid: 10836\n",
      "... wait 500 millisecond\n",
      ">>> pid: 11896\n",
      "True\n"
     ]
    }
   ],
   "source": [
    "os.getcwd()\n",
    "os.chdir(\"D:\\ShiBanQiao3-24\")\n",
    "\n",
    "cmd = \"ShiBanQiao.exe -AudioMixer -PixelStreamingIP=47.117.115.165 -PixelStreamingPort=8204 -RenderOffScreen\"\n",
    "px = ProcX(cmd)\n",
    "\n",
    "ok = px.run()\n",
    "print(ok)"
   ]
  },
  {
   "cell_type": "code",
   "execution_count": 13,
   "id": "prostate-brazilian",
   "metadata": {},
   "outputs": [
    {
     "data": {
      "text/plain": [
       "{'staus': 'running',\n",
       " 'memory_percent': 15.33,\n",
       " 'cpu_percent': 33.26,\n",
       " 'system_gpu_info': {'load_percent': 87.0,\n",
       "  'memory_percent': 84.18,\n",
       "  'temperature': 76.0}}"
      ]
     },
     "execution_count": 13,
     "metadata": {},
     "output_type": "execute_result"
    }
   ],
   "source": [
    "# px.process\n",
    "px.isRunning()\n",
    "px.status()"
   ]
  },
  {
   "cell_type": "code",
   "execution_count": 14,
   "id": "fantastic-match",
   "metadata": {},
   "outputs": [
    {
     "data": {
      "text/plain": [
       "{'staus': 'stopped',\n",
       " 'memory_percent': 20.87,\n",
       " 'cpu_percent': 0.0,\n",
       " 'system_gpu_info': {'load_percent': 92.0,\n",
       "  'memory_percent': 99.32,\n",
       "  'temperature': 76.0}}"
      ]
     },
     "execution_count": 14,
     "metadata": {},
     "output_type": "execute_result"
    }
   ],
   "source": [
    "px.execute(\"stop\")\n",
    "px.status()"
   ]
  },
  {
   "cell_type": "code",
   "execution_count": 5,
   "id": "indian-prevention",
   "metadata": {},
   "outputs": [
    {
     "data": {
      "text/plain": [
       "{'staus': 'stopped',\n",
       " 'memory_percent': 9.58,\n",
       " 'cpu_percent': 0.0,\n",
       " 'system_gpu_info': {'load_percent': 0.0,\n",
       "  'memory_percent': 83.86,\n",
       "  'temperature': 56.0}}"
      ]
     },
     "execution_count": 5,
     "metadata": {},
     "output_type": "execute_result"
    }
   ],
   "source": [
    "px.status()"
   ]
  },
  {
   "cell_type": "code",
   "execution_count": 3,
   "id": "perfect-sharp",
   "metadata": {},
   "outputs": [
    {
     "data": {
      "text/plain": [
       "{'staus': 'running',\n",
       " 'memory_percent': 22.33,\n",
       " 'cpu_percent': 24.61,\n",
       " 'system_gpu_info': {'load_percent': 92.0,\n",
       "  'memory_percent': 89.58,\n",
       "  'temperature': 77.0}}"
      ]
     },
     "execution_count": 3,
     "metadata": {},
     "output_type": "execute_result"
    }
   ],
   "source": [
    "px.execute(\"resume\")\n",
    "px.status()"
   ]
  },
  {
   "cell_type": "code",
   "execution_count": 4,
   "id": "standing-security",
   "metadata": {},
   "outputs": [
    {
     "data": {
      "text/plain": [
       "{'status': 'terminated'}"
      ]
     },
     "execution_count": 4,
     "metadata": {},
     "output_type": "execute_result"
    }
   ],
   "source": [
    "# px.terminate()\n",
    "px.execute(\"kill\")\n",
    "px.status()"
   ]
  },
  {
   "cell_type": "code",
   "execution_count": 8,
   "id": "lucky-paintball",
   "metadata": {},
   "outputs": [
    {
     "data": {
      "text/plain": [
       "{'status': 'terminated'}"
      ]
     },
     "execution_count": 8,
     "metadata": {},
     "output_type": "execute_result"
    }
   ],
   "source": [
    "px.status()"
   ]
  },
  {
   "cell_type": "code",
   "execution_count": 9,
   "id": "infectious-baker",
   "metadata": {},
   "outputs": [
    {
     "data": {
      "text/plain": [
       "False"
      ]
     },
     "execution_count": 9,
     "metadata": {},
     "output_type": "execute_result"
    }
   ],
   "source": [
    "px.isRunning()"
   ]
  },
  {
   "cell_type": "code",
   "execution_count": 10,
   "id": "collective-arthritis",
   "metadata": {},
   "outputs": [
    {
     "name": "stdout",
     "output_type": "stream",
     "text": [
      ">>> ppid: 6276\n",
      "... wait 500 millisecond\n",
      ">>> pid: 5176\n"
     ]
    },
    {
     "data": {
      "text/plain": [
       "True"
      ]
     },
     "execution_count": 10,
     "metadata": {},
     "output_type": "execute_result"
    }
   ],
   "source": [
    "px.run()"
   ]
  }
 ],
 "metadata": {
  "kernelspec": {
   "display_name": "Python 3",
   "language": "python",
   "name": "python3"
  },
  "language_info": {
   "codemirror_mode": {
    "name": "ipython",
    "version": 3
   },
   "file_extension": ".py",
   "mimetype": "text/x-python",
   "name": "python",
   "nbconvert_exporter": "python",
   "pygments_lexer": "ipython3",
   "version": "3.8.10"
  }
 },
 "nbformat": 4,
 "nbformat_minor": 5
}
