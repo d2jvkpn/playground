{
 "cells": [
  {
   "cell_type": "code",
   "execution_count": 6,
   "id": "592706e6-c315-4ae8-9a72-6263b5e7273e",
   "metadata": {},
   "outputs": [],
   "source": [
    "import os\n",
    "os.system('cmd /c \"Your Command Prompt Command\"')\n",
    "\n",
    "os.getcwd()\n",
    "os.chdir(\"D:\\ShiBanQiao3-24\")"
   ]
  },
  {
   "cell_type": "code",
   "execution_count": 3,
   "id": "f5276454-447e-4510-b6f7-bc9139594b5c",
   "metadata": {},
   "outputs": [
    {
     "name": "stdout",
     "output_type": "stream",
     "text": [
      " Volume in drive D has no label.\n",
      " Volume Serial Number is 0EAE-F221\n",
      "\n",
      " Directory of D:\\ShiBanQiao3-24\n",
      "\n",
      "06/28/2021  05:38 PM    <DIR>          .\n",
      "06/28/2021  05:38 PM    <DIR>          ..\n",
      "03/24/2021  11:34 AM    <DIR>          Engine\n",
      "03/24/2021  11:31 AM            14,235 Manifest_NonUFSFiles_Win64.txt\n",
      "04/13/2021  12:08 PM               107 run_SignallingServer_test1.bat\n",
      "04/13/2021  12:09 PM               107 run_SignallingServer_test2.bat\n",
      "04/21/2021  03:33 PM               107 run_SignallingServer_test3.bat\n",
      "04/21/2021  03:33 PM               107 run_SignallingServer_test4.bat\n",
      "05/07/2021  05:07 PM               106 run_SignallingServer1.bat\n",
      "05/07/2021  05:07 PM               106 run_SignallingServer2.bat\n",
      "03/24/2021  11:34 AM    <DIR>          ShiBanQiao\n",
      "03/24/2021  11:30 AM           189,440 ShiBanQiao.exe\n",
      "               8 File(s)        204,315 bytes\n",
      "               4 Dir(s)  606,936,645,632 bytes free\n"
     ]
    }
   ],
   "source": [
    "ls"
   ]
  },
  {
   "cell_type": "code",
   "execution_count": 5,
   "id": "ed88a414-9aa9-4f3a-a6dd-b82edacca178",
   "metadata": {},
   "outputs": [
    {
     "data": {
      "text/plain": [
       "0"
      ]
     },
     "execution_count": 5,
     "metadata": {},
     "output_type": "execute_result"
    }
   ],
   "source": [
    "os.system(\"run_SignallingServer_test4.bat\")"
   ]
  }
 ],
 "metadata": {
  "kernelspec": {
   "display_name": "Python 3",
   "language": "python",
   "name": "python3"
  },
  "language_info": {
   "codemirror_mode": {
    "name": "ipython",
    "version": 3
   },
   "file_extension": ".py",
   "mimetype": "text/x-python",
   "name": "python",
   "nbconvert_exporter": "python",
   "pygments_lexer": "ipython3",
   "version": "3.9.5"
  }
 },
 "nbformat": 4,
 "nbformat_minor": 5
}
